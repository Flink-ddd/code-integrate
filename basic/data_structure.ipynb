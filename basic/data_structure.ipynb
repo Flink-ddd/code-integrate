{
 "cells": [
  {
   "cell_type": "markdown",
   "id": "6ffbab02",
   "metadata": {},
   "source": [
    "使用list和tuple"
   ]
  },
  {
   "cell_type": "code",
   "execution_count": 1,
   "id": "d81c9dcc",
   "metadata": {},
   "outputs": [],
   "source": [
    "books = ['book1','book2','book3','book4','book5']"
   ]
  },
  {
   "cell_type": "code",
   "execution_count": 2,
   "id": "c2969727",
   "metadata": {},
   "outputs": [
    {
     "data": {
      "text/plain": [
       "5"
      ]
     },
     "execution_count": 2,
     "metadata": {},
     "output_type": "execute_result"
    }
   ],
   "source": [
    "len(books)"
   ]
  },
  {
   "cell_type": "code",
   "execution_count": 3,
   "id": "009e27e3",
   "metadata": {},
   "outputs": [
    {
     "data": {
      "text/plain": [
       "'book4'"
      ]
     },
     "execution_count": 3,
     "metadata": {},
     "output_type": "execute_result"
    }
   ],
   "source": [
    "books[3]"
   ]
  },
  {
   "cell_type": "code",
   "execution_count": 5,
   "id": "6708bd48",
   "metadata": {},
   "outputs": [
    {
     "data": {
      "text/plain": [
       "'book1'"
      ]
     },
     "execution_count": 5,
     "metadata": {},
     "output_type": "execute_result"
    }
   ],
   "source": [
    "books[-5]"
   ]
  },
  {
   "cell_type": "code",
   "execution_count": 6,
   "id": "a252d2c2",
   "metadata": {},
   "outputs": [
    {
     "ename": "IndexError",
     "evalue": "list index out of range",
     "output_type": "error",
     "traceback": [
      "\u001b[0;31m---------------------------------------------------------------------------\u001b[0m",
      "\u001b[0;31mIndexError\u001b[0m                                Traceback (most recent call last)",
      "Cell \u001b[0;32mIn[6], line 1\u001b[0m\n\u001b[0;32m----> 1\u001b[0m \u001b[43mbooks\u001b[49m\u001b[43m[\u001b[49m\u001b[38;5;241;43m-\u001b[39;49m\u001b[38;5;241;43m6\u001b[39;49m\u001b[43m]\u001b[49m\n",
      "\u001b[0;31mIndexError\u001b[0m: list index out of range"
     ]
    }
   ],
   "source": [
    "books[-6]"
   ]
  },
  {
   "cell_type": "code",
   "execution_count": 7,
   "id": "2c7920b1",
   "metadata": {},
   "outputs": [],
   "source": [
    "books.append('book6')"
   ]
  },
  {
   "cell_type": "code",
   "execution_count": 8,
   "id": "6183234b",
   "metadata": {},
   "outputs": [
    {
     "data": {
      "text/plain": [
       "['book1', 'book2', 'book3', 'book4', 'book5', 'book6']"
      ]
     },
     "execution_count": 8,
     "metadata": {},
     "output_type": "execute_result"
    }
   ],
   "source": [
    "books"
   ]
  },
  {
   "cell_type": "code",
   "execution_count": 9,
   "id": "01dee89a",
   "metadata": {},
   "outputs": [],
   "source": [
    "books.insert(2,'简爱')"
   ]
  },
  {
   "cell_type": "code",
   "execution_count": 10,
   "id": "6635ba36",
   "metadata": {},
   "outputs": [
    {
     "data": {
      "text/plain": [
       "['book1', 'book2', '简爱', 'book3', 'book4', 'book5', 'book6']"
      ]
     },
     "execution_count": 10,
     "metadata": {},
     "output_type": "execute_result"
    }
   ],
   "source": [
    "books"
   ]
  },
  {
   "cell_type": "code",
   "execution_count": 11,
   "id": "20d07fa5",
   "metadata": {},
   "outputs": [
    {
     "data": {
      "text/plain": [
       "'book6'"
      ]
     },
     "execution_count": 11,
     "metadata": {},
     "output_type": "execute_result"
    }
   ],
   "source": [
    "books.pop(6)"
   ]
  },
  {
   "cell_type": "code",
   "execution_count": 12,
   "id": "aad58025",
   "metadata": {},
   "outputs": [
    {
     "data": {
      "text/plain": [
       "['book1', 'book2', '简爱', 'book3', 'book4', 'book5']"
      ]
     },
     "execution_count": 12,
     "metadata": {},
     "output_type": "execute_result"
    }
   ],
   "source": [
    "books"
   ]
  },
  {
   "cell_type": "code",
   "execution_count": 13,
   "id": "5b65c0f4",
   "metadata": {},
   "outputs": [],
   "source": [
    "books[3] = '鲁宾逊漂流记'"
   ]
  },
  {
   "cell_type": "code",
   "execution_count": 14,
   "id": "4f32c8b7",
   "metadata": {},
   "outputs": [
    {
     "data": {
      "text/plain": [
       "['book1', 'book2', '简爱', '鲁宾逊漂流记', 'book4', 'book5']"
      ]
     },
     "execution_count": 14,
     "metadata": {},
     "output_type": "execute_result"
    }
   ],
   "source": [
    "books"
   ]
  },
  {
   "cell_type": "code",
   "execution_count": 15,
   "id": "ffcfa8c6",
   "metadata": {},
   "outputs": [],
   "source": [
    "L = ['python',123,True,]"
   ]
  },
  {
   "cell_type": "code",
   "execution_count": 16,
   "id": "a535693e",
   "metadata": {},
   "outputs": [],
   "source": [
    "t = (1,2,3,4,5)"
   ]
  },
  {
   "cell_type": "code",
   "execution_count": 17,
   "id": "d9431a27",
   "metadata": {},
   "outputs": [],
   "source": [
    "t = (3)"
   ]
  },
  {
   "cell_type": "code",
   "execution_count": 18,
   "id": "a0b31f27",
   "metadata": {},
   "outputs": [],
   "source": [
    "t = ('a','b',['A','B'])"
   ]
  },
  {
   "cell_type": "code",
   "execution_count": 19,
   "id": "acdde546",
   "metadata": {},
   "outputs": [],
   "source": [
    "t[2][0] = 'book1'"
   ]
  },
  {
   "cell_type": "code",
   "execution_count": 20,
   "id": "beab3f55",
   "metadata": {},
   "outputs": [],
   "source": [
    "t[2][1] = 'book2'"
   ]
  },
  {
   "cell_type": "code",
   "execution_count": 21,
   "id": "39574889",
   "metadata": {},
   "outputs": [
    {
     "data": {
      "text/plain": [
       "('a', 'b', ['book1', 'book2'])"
      ]
     },
     "execution_count": 21,
     "metadata": {},
     "output_type": "execute_result"
    }
   ],
   "source": [
    "t"
   ]
  },
  {
   "cell_type": "code",
   "execution_count": null,
   "id": "8adf5f2c",
   "metadata": {},
   "outputs": [],
   "source": [
    "L = [['book1','book2'],['apple','orange'],['boy','girl']]"
   ]
  },
  {
   "cell_type": "code",
   "execution_count": 26,
   "id": "dbd52d5e",
   "metadata": {},
   "outputs": [
    {
     "data": {
      "text/plain": [
       "[['book1', 'book2'], ['apple', 'orange'], ['boy', 'girl']]"
      ]
     },
     "execution_count": 26,
     "metadata": {},
     "output_type": "execute_result"
    }
   ],
   "source": [
    "L"
   ]
  },
  {
   "cell_type": "code",
   "execution_count": 30,
   "id": "f0fff3bb",
   "metadata": {},
   "outputs": [
    {
     "name": "stdout",
     "output_type": "stream",
     "text": [
      "book1\n"
     ]
    }
   ],
   "source": [
    "print(L[0][0])"
   ]
  },
  {
   "cell_type": "code",
   "execution_count": 34,
   "id": "17ca19fe",
   "metadata": {},
   "outputs": [
    {
     "name": "stdout",
     "output_type": "stream",
     "text": [
      "['book1', 'book2']\n"
     ]
    }
   ],
   "source": [
    "print(L[0])"
   ]
  },
  {
   "cell_type": "code",
   "execution_count": 31,
   "id": "e18084f2",
   "metadata": {},
   "outputs": [
    {
     "name": "stdout",
     "output_type": "stream",
     "text": [
      "orange\n"
     ]
    }
   ],
   "source": [
    "print(L[1][1])"
   ]
  },
  {
   "cell_type": "code",
   "execution_count": 32,
   "id": "967d1d82",
   "metadata": {},
   "outputs": [
    {
     "name": "stdout",
     "output_type": "stream",
     "text": [
      "boy\n"
     ]
    }
   ],
   "source": [
    "print(L[2][0])"
   ]
  },
  {
   "cell_type": "markdown",
   "id": "34fa03b8",
   "metadata": {},
   "source": [
    "数据类型和变量"
   ]
  },
  {
   "cell_type": "code",
   "execution_count": 33,
   "id": "a4197e62",
   "metadata": {},
   "outputs": [
    {
     "name": "stdout",
     "output_type": "stream",
     "text": [
      "123\n"
     ]
    }
   ],
   "source": [
    "a = '123'\n",
    "b = a\n",
    "a = '872'\n",
    "print(b)"
   ]
  },
  {
   "cell_type": "code",
   "execution_count": null,
   "id": "ef774e8f",
   "metadata": {},
   "outputs": [],
   "source": [
    "10 / 3"
   ]
  }
 ],
 "metadata": {
  "kernelspec": {
   "display_name": ".conda",
   "language": "python",
   "name": "python3"
  },
  "language_info": {
   "codemirror_mode": {
    "name": "ipython",
    "version": 3
   },
   "file_extension": ".py",
   "mimetype": "text/x-python",
   "name": "python",
   "nbconvert_exporter": "python",
   "pygments_lexer": "ipython3",
   "version": "3.10.16"
  }
 },
 "nbformat": 4,
 "nbformat_minor": 5
}
